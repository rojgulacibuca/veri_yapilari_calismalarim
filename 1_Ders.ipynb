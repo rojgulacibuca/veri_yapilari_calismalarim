{
  "nbformat": 4,
  "nbformat_minor": 0,
  "metadata": {
    "colab": {
      "provenance": []
    },
    "kernelspec": {
      "name": "python3",
      "display_name": "Python 3"
    },
    "language_info": {
      "name": "python"
    }
  },
  "cells": [
    {
      "cell_type": "markdown",
      "source": [
        "python programlam dilinde print komutu ekrandan kullanıcıya bilgi veren bir koddur.\n",
        "\n",
        "veri yapıları ve algoritmalar dersi ilk koddlama çıktısıdır. İGÜ SİBER\n",
        "19.08.2024"
      ],
      "metadata": {
        "id": "dtf6d-GV61B8"
      }
    },
    {
      "cell_type": "code",
      "execution_count": 2,
      "metadata": {
        "colab": {
          "base_uri": "https://localhost:8080/"
        },
        "id": "pEd6GCUz25KN",
        "outputId": "25ab7548-b42e-4eed-df2e-01777ebb5afc"
      },
      "outputs": [
        {
          "output_type": "stream",
          "name": "stdout",
          "text": [
            " merhaba,İGÜ-İSTKA / Ders 1!\n"
          ]
        }
      ],
      "source": [
        "print(\" merhaba,İGÜ-İSTKA / Ders 1!\")"
      ]
    },
    {
      "cell_type": "code",
      "source": [
        "import sys #import python programlama dili\n",
        "print(sys.version)"
      ],
      "metadata": {
        "colab": {
          "base_uri": "https://localhost:8080/"
        },
        "id": "P_ckXthk5y7v",
        "outputId": "78106564-c4a8-4b62-8308-767927e00b07"
      },
      "execution_count": 5,
      "outputs": [
        {
          "output_type": "stream",
          "name": "stdout",
          "text": [
            "3.10.12 (main, Jul 29 2024, 16:56:48) [GCC 11.4.0]\n"
          ]
        }
      ]
    },
    {
      "cell_type": "code",
      "source": [
        "from google.colab import drive # google colad - drive bağlantısı\n",
        "\n",
        "drive.mount('/content/drive')\n"
      ],
      "metadata": {
        "colab": {
          "base_uri": "https://localhost:8080/"
        },
        "id": "SQpfqpen7qRL",
        "outputId": "11b06e88-394c-48bd-d4cb-42f26991f4da"
      },
      "execution_count": 8,
      "outputs": [
        {
          "output_type": "stream",
          "name": "stdout",
          "text": [
            "Drive already mounted at /content/drive; to attempt to forcibly remount, call drive.mount(\"/content/drive\", force_remount=True).\n"
          ]
        }
      ]
    },
    {
      "cell_type": "code",
      "source": [
        "import os\n",
        "os.chdir('/content/drive/My Drive/veriyapilari.istka')\n",
        "!pwd #bize kodun çıktısını dosya yolu olarak veren kod blogudur."
      ],
      "metadata": {
        "colab": {
          "base_uri": "https://localhost:8080/"
        },
        "id": "A7v2gUNx86A4",
        "outputId": "fd820718-49c6-4088-a9c5-a789a25e29ab"
      },
      "execution_count": 9,
      "outputs": [
        {
          "output_type": "stream",
          "name": "stdout",
          "text": [
            "/content/drive/My Drive/veriyapilari.istka\n"
          ]
        }
      ]
    }
  ]
}