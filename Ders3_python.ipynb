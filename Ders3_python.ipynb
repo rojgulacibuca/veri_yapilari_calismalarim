{
  "nbformat": 4,
  "nbformat_minor": 0,
  "metadata": {
    "colab": {
      "provenance": []
    },
    "kernelspec": {
      "name": "python3",
      "display_name": "Python 3"
    },
    "language_info": {
      "name": "python"
    }
  },
  "cells": [
    {
      "cell_type": "code",
      "execution_count": 7,
      "metadata": {
        "colab": {
          "base_uri": "https://localhost:8080/"
        },
        "id": "ZIxVjAnfp5jJ",
        "outputId": "88d7f42e-9af5-4ec9-a0c5-a3e5cc99971f"
      },
      "outputs": [
        {
          "output_type": "stream",
          "name": "stdout",
          "text": [
            "Merhaba İGÜ, Ders 3\n"
          ]
        }
      ],
      "source": [
        "print(\"Merhaba İGÜ, Ders 3\")"
      ]
    },
    {
      "cell_type": "code",
      "source": [
        "import sys\n",
        "print(sys.version)"
      ],
      "metadata": {
        "colab": {
          "base_uri": "https://localhost:8080/"
        },
        "id": "G8XMbLvbu8RS",
        "outputId": "47b345f1-5885-4727-cc56-d9e63196064d"
      },
      "execution_count": 9,
      "outputs": [
        {
          "output_type": "stream",
          "name": "stdout",
          "text": [
            "3.10.12 (main, Jul 29 2024, 16:56:48) [GCC 11.4.0]\n"
          ]
        }
      ]
    },
    {
      "cell_type": "code",
      "source": [
        "from google.colab import drive\n",
        "drive.mount('/content/drive')"
      ],
      "metadata": {
        "colab": {
          "base_uri": "https://localhost:8080/"
        },
        "id": "uwE3l51ZvGzi",
        "outputId": "f90f74bc-1e28-4387-a636-9ab9d25ebb1b"
      },
      "execution_count": 3,
      "outputs": [
        {
          "output_type": "stream",
          "name": "stdout",
          "text": [
            "Mounted at /content/drive\n"
          ]
        }
      ]
    },
    {
      "cell_type": "code",
      "source": [
        "import os\n",
        "os.chdir('/content/drive/My Drive/veriyapilari.istka')"
      ],
      "metadata": {
        "id": "BHWYKimovK7R"
      },
      "execution_count": 4,
      "outputs": []
    },
    {
      "cell_type": "code",
      "source": [
        "# if kosul yapısı\n",
        "x=10\n",
        "\n",
        "if x > 5:\n",
        "     print(\"x, 5'ten büyüktür. \")"
      ],
      "metadata": {
        "colab": {
          "base_uri": "https://localhost:8080/"
        },
        "id": "sDo2cyxhyBFE",
        "outputId": "7d2ab0bf-543d-4ce6-ea65-eae4da8fcda1"
      },
      "execution_count": 10,
      "outputs": [
        {
          "output_type": "stream",
          "name": "stdout",
          "text": [
            "x, 5'ten büyüktür. \n"
          ]
        }
      ]
    },
    {
      "cell_type": "code",
      "source": [
        "# if-else Koşulu yapısı\n",
        "x= 3\n",
        "if x>5:\n",
        "  print(\"x, 5'ten büyüktür.\")\n",
        "else:\n",
        "    print(\"x, 5'ten küçük veya eşittir.\")"
      ],
      "metadata": {
        "colab": {
          "base_uri": "https://localhost:8080/"
        },
        "id": "Aqp0_YjW4gaS",
        "outputId": "b2606110-c399-41be-e076-f1b340a3da03"
      },
      "execution_count": 12,
      "outputs": [
        {
          "output_type": "stream",
          "name": "stdout",
          "text": [
            "x, 5'ten küçük veya eşittir.\n"
          ]
        }
      ]
    },
    {
      "cell_type": "code",
      "source": [
        "#if-elif-else Koşul Yapısı\n",
        "x=8\n",
        "if x>10:\n",
        "  print(\"x,10'dan büyüktür.\")\n",
        "elif x>5:\n",
        "    print(\"x, 5'ten büyüktür ama 10'dan küçük veya eşittir.\")\n",
        "else:\n",
        "  print(\"x, 5'ten küçük veya eşitir.\")"
      ],
      "metadata": {
        "colab": {
          "base_uri": "https://localhost:8080/"
        },
        "id": "Zq5M1lr-6dcC",
        "outputId": "ab2b04a9-73e0-46a2-c593-e0c9e6e9580a"
      },
      "execution_count": 14,
      "outputs": [
        {
          "output_type": "stream",
          "name": "stdout",
          "text": [
            "x, 5'ten büyüktür ama 10'dan küçük veya eşittir.\n"
          ]
        }
      ]
    },
    {
      "cell_type": "code",
      "source": [
        "#iç içe Koşul Yapısı\n",
        "x=12\n",
        "y=8\n",
        "if x>10:\n",
        "  if y>5:\n",
        "    print(\"x,10'dan büyük ve y,5'ten büyüktür.\")  # Bu satır çalışır\n",
        "  else:\n",
        "    print(\"x,10'dan büyük ama y,5'ten küçük veya eşittir.\")\n",
        "else:\n",
        "  print(\"x,10'dan küçük veya eşittir.\")"
      ],
      "metadata": {
        "colab": {
          "base_uri": "https://localhost:8080/"
        },
        "id": "YyhPRYW6DdPW",
        "outputId": "6c8b11ce-553c-42ec-aa5d-d8c5f98021c6"
      },
      "execution_count": 15,
      "outputs": [
        {
          "output_type": "stream",
          "name": "stdout",
          "text": [
            "x,10'dan büyük ve y,5'ten büyüktür.\n"
          ]
        }
      ]
    },
    {
      "cell_type": "code",
      "source": [
        "#Mantıksal Operatör ile Koşullar\n",
        "x=7\n",
        "y=3\n",
        "# 'and' operatörü ile\n",
        "if x>5 and y>2:\n",
        "  print(\"x,5'ten büyük ve 2'den büyüktür.\")\n",
        "#'or' operatörü ile\n",
        "if x>5 or y>5:\n",
        "  print(\"x veya y, 5'ten büyüktür.\")\n",
        "#'not'operatörü ile\n",
        "if not(x>10):\n",
        "  print(\"x 10'dan büyük değildir.\")\n"
      ],
      "metadata": {
        "colab": {
          "base_uri": "https://localhost:8080/"
        },
        "id": "0DWYYZrzEsme",
        "outputId": "d1d5f7ff-b14c-41c2-dff3-4908823cb396"
      },
      "execution_count": 16,
      "outputs": [
        {
          "output_type": "stream",
          "name": "stdout",
          "text": [
            "x,5'ten büyük ve 2'den büyüktür.\n",
            "x veya y, 5'ten büyüktür.\n",
            "x 10'dan büyük değildir.\n"
          ]
        }
      ]
    },
    {
      "cell_type": "code",
      "source": [
        "#Örnek 1: Not Sistemi\n",
        "notu=85 #not farkını gösterilecek...\n",
        "if notu>=90:\n",
        "  print(\"Harf notu:A\")\n",
        "elif notu>=80:\n",
        "  print(\"Harf notu:B\")\n",
        "elif notu>=70:\n",
        "  print(\"Harf notu:C\")\n",
        "elif notu>=60:\n",
        "  print(\"Harf notu:D\")\n",
        "else:\n",
        "  print(\"Harf notu:F\")\n",
        "\n"
      ],
      "metadata": {
        "colab": {
          "base_uri": "https://localhost:8080/"
        },
        "id": "lNgzdsKZGIhv",
        "outputId": "836dac5a-aefb-42de-c42c-d02f0e4de9d4"
      },
      "execution_count": 18,
      "outputs": [
        {
          "output_type": "stream",
          "name": "stdout",
          "text": [
            "Harf notu:B\n"
          ]
        }
      ]
    },
    {
      "cell_type": "code",
      "source": [
        "#örnek 2: Yaş Kontrolü\n",
        "yas=20\n",
        "if yas<18:\n",
        "  print(\"Reşit değilsiniz\")\n",
        "elif yas<21:\n",
        "  print(\"Reşitsiniz ama içecek satın alamazsınız.\")\n",
        "else:\n",
        "  print(\"İçecek satın alabilirsiniz.\")"
      ],
      "metadata": {
        "colab": {
          "base_uri": "https://localhost:8080/"
        },
        "id": "mMukyV-yH8MX",
        "outputId": "d63c8204-268a-4b06-a075-736bb834370e"
      },
      "execution_count": 19,
      "outputs": [
        {
          "output_type": "stream",
          "name": "stdout",
          "text": [
            "Reşitsiniz ama içecek satın alamazsınız.\n"
          ]
        }
      ]
    },
    {
      "cell_type": "code",
      "source": [
        "#Örnek 3: Sayı Pozitif,Negatif veya Sıfır mı?\n",
        "sayi= int(input(\"Bir sayı giriniz\"))\n",
        "if sayi>0:\n",
        "  print(\"Sayı poziftir.\")\n",
        "elif sayi<0:\n",
        "  print(\"Sayı negatiftir.\")\n",
        "else:\n",
        "  print(\"Sayı sıfırdır.\")"
      ],
      "metadata": {
        "colab": {
          "base_uri": "https://localhost:8080/"
        },
        "id": "kHUWfLTsIsr3",
        "outputId": "ff71d95d-5a4b-41ef-9b99-24919785ac3e"
      },
      "execution_count": 20,
      "outputs": [
        {
          "output_type": "stream",
          "name": "stdout",
          "text": [
            "Bir sayı giriniz8\n",
            "Sayı poziftir.\n"
          ]
        }
      ]
    },
    {
      "cell_type": "code",
      "source": [],
      "metadata": {
        "id": "Xeb9eLU_JqDd"
      },
      "execution_count": null,
      "outputs": []
    }
  ]
}